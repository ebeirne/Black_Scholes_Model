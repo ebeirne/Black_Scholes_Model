{
 "cells": [
  {
   "cell_type": "markdown",
   "id": "e31a74ca",
   "metadata": {},
   "source": [
    "# Exploratory Analysis"
   ]
  },
  {
   "cell_type": "code",
   "execution_count": null,
   "id": "700d522b",
   "metadata": {
    "vscode": {
     "languageId": "plaintext"
    }
   },
   "outputs": [],
   "source": [
    "import glob\n",
    "import pandas as pd\n",
    "import matplotlib.pyplot as plt\n",
    "\n",
    "# Load processed data\n",
    "files = glob.glob('../data/processed/*.parquet')\n",
    "df = pd.concat([pd.read_parquet(f) for f in files], ignore_index=True)\n",
    "\n",
    "# Preview & plot\n",
    "display(df.head())\n",
    "df['mid_price'].hist(bins=50)\n",
    "plt.title('Mid‑Price Distribution')\n",
    "plt.show()\n"
   ]
  }
 ],
 "metadata": {
  "language_info": {
   "name": "python"
  }
 },
 "nbformat": 4,
 "nbformat_minor": 5
}
